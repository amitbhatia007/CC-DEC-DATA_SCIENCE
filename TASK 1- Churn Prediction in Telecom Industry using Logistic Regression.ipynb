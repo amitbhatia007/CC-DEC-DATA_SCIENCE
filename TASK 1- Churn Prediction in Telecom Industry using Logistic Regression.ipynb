import pandas as pd
from sklearn.model_selection import train_test_split
from sklearn.linear_model import LogisticRegression
from sklearn.metrics import accuracy_score

data = pd.read_csv('churn_data.csv')

X = data[['age', 'income', 'avg_bill', 'num_calls']]
y = data['churn']
X_train, X_test, y_train, y_test = train_test_split(X, y, test_size=0.2, random_state=42)

model = LogisticRegression()
model.fit(X_train, y_train)

y_pred = model.predict(X_test)

accuracy = accuracy_score(y_test, y_pred)
print('Accuracy:', accuracy)
